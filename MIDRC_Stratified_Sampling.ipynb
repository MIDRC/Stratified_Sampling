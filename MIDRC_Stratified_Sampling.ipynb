{
 "cells": [
  {
   "cell_type": "markdown",
   "id": "048c3f62",
   "metadata": {},
   "source": [
    "# Stratified sampling algorithim\n",
    "### Separate an incoming data batch into open and sequestered using stratified sampling\n",
    "Developed using Python 3 <br>\n",
    "Written by Alec Steep, edited by Natalie Baughan and TDP 3d <br>\n",
    "May 2023 <br>\n",
    "Contact: nbaughan@uchicago.edu, hwhitney@uchicago.edu <br>"
   ]
  },
  {
   "cell_type": "markdown",
   "id": "90252eb9",
   "metadata": {},
   "source": [
    "Determine which version of python notebook relies on"
   ]
  },
  {
   "cell_type": "code",
   "execution_count": 2,
   "id": "627412fa",
   "metadata": {},
   "outputs": [
    {
     "name": "stdout",
     "output_type": "stream",
     "text": [
      "/opt/anaconda3/bin/python\n"
     ]
    }
   ],
   "source": [
    "import sys\n",
    "print(sys.executable) "
   ]
  },
  {
   "cell_type": "markdown",
   "id": "ae1e8c85",
   "metadata": {},
   "source": [
    "Import modules and set variables"
   ]
  },
  {
   "cell_type": "code",
   "execution_count": 3,
   "id": "45ab6ba9",
   "metadata": {},
   "outputs": [],
   "source": [
    "# Import modules and set variables\n",
    "import os\n",
    "import pandas as pd\n",
    "import numpy as np\n",
    "import math\n",
    "import random\n",
    "import copy\n",
    "cwd = os.getcwd()"
   ]
  },
  {
   "cell_type": "markdown",
   "id": "e711b066",
   "metadata": {},
   "source": [
    "Functions"
   ]
  },
  {
   "cell_type": "code",
   "execution_count": 4,
   "id": "513d49ae",
   "metadata": {},
   "outputs": [],
   "source": [
    "## Group counts: Custom function\n",
    "# Matlab has a function named \"groupcounts\". Below is a pythonic recreation:\n",
    "def groupcounts(df, col_name):\n",
    "    df_out = df[col_name].value_counts().reset_index(name='GroupCount')\n",
    "    df1 = df[col_name].value_counts(normalize =True).reset_index(name='Percent')\n",
    "    df_out['Percent'] = df1['Percent']*100\n",
    "    df_out = df_out.sort_values(['index'])\n",
    "    df_out = df_out.rename(columns={'index': col_name}).reset_index(drop=True)\n",
    "    return df_out"
   ]
  },
  {
   "cell_type": "markdown",
   "id": "21a683c5",
   "metadata": {},
   "source": [
    "Read in Data"
   ]
  },
  {
   "cell_type": "code",
   "execution_count": 5,
   "id": "63edf650",
   "metadata": {},
   "outputs": [],
   "source": [
    "## Read in Data\n",
    "filepath = \"./\"\n",
    "\n",
    "filename = \"MIDRC_Stratified_Sampling_Example_5000_Patient_Subset.xlsx\"\n",
    "\n",
    "# Verify fields read in with correct data type\n",
    "inputfile = filepath + filename\n",
    "\n",
    "data = pd.read_excel(inputfile)\n",
    "\n",
    "# Adjust the data types\n",
    "data['submitter_id'] = data['submitter_id'].astype(str)\n",
    "data[\"age_at_index\"] = pd.to_numeric(data[\"age_at_index\"])\n"
   ]
  },
  {
   "cell_type": "code",
   "execution_count": 19,
   "id": "cab094d5",
   "metadata": {},
   "outputs": [
    {
     "data": {
      "text/plain": [
       "<bound method NDFrame.head of      submitter_id  age_at_index covid19_positive               ethnicity  \\\n",
       "0       case_0001            27              Yes  Not Hispanic or Latino   \n",
       "1       case_0002            84              Yes  Not Hispanic or Latino   \n",
       "2       case_0003            65              Yes  Not Hispanic or Latino   \n",
       "3       case_0004            69              Yes  Not Hispanic or Latino   \n",
       "4       case_0005            37              Yes  Not Hispanic or Latino   \n",
       "...           ...           ...              ...                     ...   \n",
       "4995    case_4996            72               No  Not Hispanic or Latino   \n",
       "4996    case_4997            73               No  Not Hispanic or Latino   \n",
       "4997    case_4998            80              Yes  Not Hispanic or Latino   \n",
       "4998    case_4999            55              Yes  Not Hispanic or Latino   \n",
       "4999    case_5000            22               No  Not Hispanic or Latino   \n",
       "\n",
       "                           race     sex modality     dataset      batch  CR  \\\n",
       "0     Black or African American  Female       CR  Unassigned  Undefined   1   \n",
       "1                         White    Male       DX  Unassigned  Undefined   0   \n",
       "2                         White    Male       CR  Unassigned  Undefined   1   \n",
       "3                         White    Male       DX  Unassigned  Undefined   0   \n",
       "4     Black or African American    Male       DX  Unassigned  Undefined   0   \n",
       "...                         ...     ...      ...         ...        ...  ..   \n",
       "4995                      White  Female       DX  Unassigned  Undefined   0   \n",
       "4996                      White  Female       CR  Unassigned  Undefined   1   \n",
       "4997                      White  Female       DX  Unassigned  Undefined   0   \n",
       "4998                      White    Male       CR  Unassigned  Undefined   1   \n",
       "4999                      White  Female       DX  Unassigned  Undefined   0   \n",
       "\n",
       "      CT  DX  MR  agec  site_id  \n",
       "0      0   0   0     2        0  \n",
       "1      0   1   0     7        0  \n",
       "2      0   0   0     6        0  \n",
       "3      0   1   0     6        0  \n",
       "4      0   1   0     3        0  \n",
       "...   ..  ..  ..   ...      ...  \n",
       "4995   0   1   0     6        0  \n",
       "4996   0   0   0     6        0  \n",
       "4997   0   1   0     7        0  \n",
       "4998   0   0   0     5        0  \n",
       "4999   0   1   0     2        0  \n",
       "\n",
       "[5000 rows x 15 columns]>"
      ]
     },
     "execution_count": 19,
     "metadata": {},
     "output_type": "execute_result"
    }
   ],
   "source": [
    "data.head"
   ]
  },
  {
   "cell_type": "code",
   "execution_count": 8,
   "id": "2bdacd18",
   "metadata": {},
   "outputs": [],
   "source": [
    "# Check for duplicates - If warning presents, go to merge batch\n",
    "ptcount = np.unique(data['submitter_id'])\n",
    "if len(ptcount) != len(data.index):\n",
    "    dupes_n = len(data.index)-len(ptcount)\n",
    "    print(\"WARNING: \" + str(dupes_n) + \" duplicate patients in batch \\n\")\n",
    "    "
   ]
  },
  {
   "cell_type": "markdown",
   "id": "7f87a929",
   "metadata": {},
   "source": [
    "Clean Data"
   ]
  },
  {
   "cell_type": "code",
   "execution_count": 9,
   "id": "8d74fe11",
   "metadata": {},
   "outputs": [],
   "source": [
    "# Clean Data\n",
    "# sex race ethnicity age_at_index covid19_positive site_id modality\n",
    "for i in range(0, len(data.index)):\n",
    "    if data.loc[i,'sex'] == \"\":\n",
    "        data.loc[i,'sex'] = 'Not Reported'\n",
    "    if data.loc[i, 'ethnicity'] == \"\":\n",
    "        data.loc[i, 'ethnicity'] = 'Not Reported'\n",
    "    if data.loc[i, 'race'] == \"\":\n",
    "        data.loc[i, 'race'] = 'Not Reported'\n",
    "    if data.loc[i, 'covid19_positive'] == \"\":\n",
    "        data.loc[i, 'covid19_positive'] = 'Not Reported'\n",
    "    if math.isnan(data.loc[i, 'age_at_index']) or pd.isnull(data.loc[i, 'age_at_index']):\n",
    "        if data.loc[i, 'age_at_index_gt89'] == \"Yes\":\n",
    "            data.loc[i,'age_at_index'] = 890\n",
    "        else:\n",
    "            data.loc[i,'age_at_index'] = 999\n",
    "            "
   ]
  },
  {
   "cell_type": "code",
   "execution_count": 18,
   "id": "28112e3f",
   "metadata": {},
   "outputs": [],
   "source": [
    "# Create site id variable\n",
    "# *NOTE* Code below assumes single-site data, if site_id is present, remove the following line\n",
    "data['site_id'] = 0\n"
   ]
  },
  {
   "cell_type": "markdown",
   "id": "cfcb6b57",
   "metadata": {},
   "source": [
    "Convert columns to strings (sex, race, ethnicity, covid19_positive, dataset)"
   ]
  },
  {
   "cell_type": "code",
   "execution_count": 10,
   "id": "36e52962",
   "metadata": {},
   "outputs": [],
   "source": [
    "# Convert columns to strings\n",
    "data['sex'] = data['sex'].astype(str)\n",
    "data['race'] = data['race'].astype(str)\n",
    "data['ethnicity'] = data['ethnicity'].astype(str)\n",
    "data['covid19_positive'] = data['covid19_positive'].astype(str)\n",
    "data['dataset'] = data['dataset'].astype(str)\n"
   ]
  },
  {
   "cell_type": "markdown",
   "id": "dd8eddd0",
   "metadata": {},
   "source": [
    "Modality"
   ]
  },
  {
   "cell_type": "code",
   "execution_count": 11,
   "id": "70c2a5cc",
   "metadata": {},
   "outputs": [],
   "source": [
    "# Modality\n",
    "M = groupcounts(data, 'modality')\n",
    "\n",
    "# The modality factors are pre-defined by original author\n",
    "modalityNames = [\"CR\",\"CT\",\"DX\",\"MR\"]\n",
    "\n",
    "# One hot encode modality column with booleans\n",
    "for mn in modalityNames:\n",
    "    data[mn] = data.modality.str.contains(mn).astype('uint8')\n",
    "\n",
    "ModalityCount = [sum(data['CR']), sum(data['CT']), sum(data['DX']), sum(data['MR'])]\n",
    "    \n",
    "M1 = pd.DataFrame({\n",
    "    'modalityNames':modalityNames,\n",
    "    'ModalityCount':ModalityCount\n",
    "}).sort_values(['ModalityCount'], ascending=[False])\n",
    "modalityNames = M1.modalityNames.tolist()\n"
   ]
  },
  {
   "cell_type": "code",
   "execution_count": 12,
   "id": "d0e5e8b1",
   "metadata": {},
   "outputs": [],
   "source": [
    "# Pre-assign dataset and remove patients from prior batches\n",
    "FinalTable = copy.copy(data)\n",
    "FinalTable['batch'] = \"Undefined\"\n",
    "\n",
    "# Remove patients from prior batches\n",
    "data = data[(data['dataset'] != 'Open') & (data['dataset'] != 'Seq')]\n"
   ]
  },
  {
   "cell_type": "markdown",
   "id": "36b2c034",
   "metadata": {},
   "source": [
    "Separate age into CDC groups"
   ]
  },
  {
   "cell_type": "code",
   "execution_count": 14,
   "id": "6565f8ad",
   "metadata": {},
   "outputs": [],
   "source": [
    "# Separate age into CDC groups\n",
    "# CDC COVID data uses two sets of age groups: \n",
    "# (1) age-groups consistent with those used across CDC COVID-19 surveillance pages\n",
    "# (2) age groups that are routinely included in NCHS morality reports\n",
    "# Assume 0-17, 18-29, 30-39, 40-49, 50-64, 65-74, 75-84, 85+\n",
    "# From https://www.cdc.gov/nchs/nvss/vsrr/covid_weekly/index.htm#SexAndAge\n",
    "data['agec'] = 0\n",
    "for i in data.index:\n",
    "    if data.loc[i, 'age_at_index'] <= 17:\n",
    "        data.loc[i, 'agec'] = 1\n",
    "    elif data.loc[i, 'age_at_index'] > 17 and data.loc[i, 'age_at_index'] <= 29:\n",
    "        data.loc[i, 'agec'] = 2\n",
    "    elif data.loc[i, 'age_at_index'] > 29 and data.loc[i, 'age_at_index'] <= 39:\n",
    "        data.loc[i, 'agec'] = 3\n",
    "    elif data.loc[i, 'age_at_index'] > 39 and data.loc[i, 'age_at_index'] <= 49:\n",
    "        data.loc[i, 'agec'] = 4\n",
    "    elif data.loc[i, 'age_at_index'] > 49 and data.loc[i, 'age_at_index'] <= 64:\n",
    "        data.loc[i, 'agec'] = 5\n",
    "    elif data.loc[i, 'age_at_index'] > 64 and data.loc[i, 'age_at_index'] <= 74:\n",
    "        data.loc[i, 'agec'] = 6\n",
    "    elif data.loc[i, 'age_at_index'] > 74 and data.loc[i, 'age_at_index'] <= 84:\n",
    "        data.loc[i, 'agec'] = 7\n",
    "    elif data.loc[i, 'age_at_index'] > 84 and data.loc[i, 'age_at_index'] <= 140:\n",
    "        data.loc[i, 'agec'] = 8\n",
    "    elif data.loc[i, 'age_at_index'] == 890:\n",
    "        data.loc[i, 'agec'] = 8"
   ]
  },
  {
   "cell_type": "markdown",
   "id": "b4ac669b",
   "metadata": {},
   "source": [
    "Grab site information and initialize seed"
   ]
  },
  {
   "cell_type": "code",
   "execution_count": 20,
   "id": "8e9a52f5",
   "metadata": {},
   "outputs": [],
   "source": [
    "# Grab site information and initialize seed\n",
    "sites = groupcounts(data, 'site_id')\n",
    "\n",
    "datasave = copy.copy(data)\n",
    "\n",
    "# Initialize seed\n",
    "seed = 1\n",
    "np.random.seed(seed)\n"
   ]
  },
  {
   "cell_type": "markdown",
   "id": "4dbd227c",
   "metadata": {},
   "source": [
    "Split for each site"
   ]
  },
  {
   "cell_type": "code",
   "execution_count": 21,
   "id": "279b59dd",
   "metadata": {},
   "outputs": [],
   "source": [
    "## Stratified sampling process\n",
    "# Split for each site\n",
    "percSeq = 0.2\n",
    "\n",
    "for x in range(0, len(sites)):\n",
    "    data = copy.copy(datasave.loc[datasave['site_id'] == sites.loc[x,'site_id']])\n",
    "    \n",
    "    # Gather stats\n",
    "    A = groupcounts(data,'agec')\n",
    "    S = groupcounts(data,'sex')\n",
    "    R = groupcounts(data,'race')\n",
    "    E = groupcounts(data,'ethnicity')\n",
    "    C = groupcounts(data, 'covid19_positive')\n",
    "    \n",
    "    # Split \n",
    "    # Assumes all unique patients\n",
    "    # Separate on C, A, R, G, E, and modality\n",
    "    open1 = pd.DataFrame([])\n",
    "    seq = pd.DataFrame([])\n",
    "    i = 0\n",
    "    feature_list = ['case_n','age_index', 'race_index','sex_index','eth_index']\n",
    "    count = pd.DataFrame(0, index=np.arange(len(A)*len(S)*len(R)*len(E)*len(C)), columns=feature_list)\n",
    "    # count = zeros(height(C)*height(A)*height(R)*height(S)*height(E),5);\n",
    "    for m in range(0,len(modalityNames)):\n",
    "        modality = modalityNames[m]\n",
    "        # Select all patients with given modality inclusive of multiples\n",
    "        tempm = data.loc[data[modality] == 1]\n",
    "        # Remove these from data such that they are not selected again (unnecessary)\n",
    "        i_drops = data.loc[data[modality] == 1].index\n",
    "        data.drop(labels = i_drops, axis = 0, inplace = True)\n",
    "        for cg in range(0, len(C)):\n",
    "            covid_group = C.loc[cg,'covid19_positive']\n",
    "            tempc = tempm.loc[tempm['covid19_positive'] == covid_group]\n",
    "            for ag in range(-1, len(A)):\n",
    "                if(ag == -1):\n",
    "                    age_group = 0\n",
    "                else:\n",
    "                    age_group = A.loc[ag,'agec']\n",
    "                temp1 = tempc.loc[tempc['agec'] == age_group]\n",
    "                for rg in range(0, len(R)):\n",
    "                    race_group = R.loc[rg,'race']\n",
    "                    temp2 = temp1.loc[temp1['race'] == race_group]\n",
    "                    for sg in range(0, len(S)):\n",
    "                        sex_group = S.loc[sg,'sex']\n",
    "                        temp3 = temp2.loc[temp2['sex'] == sex_group]\n",
    "                        for eg in range(0, len(E)):\n",
    "                            ethnicity_group = E.loc[eg,'ethnicity']\n",
    "                            temp4 = temp3.loc[temp3['ethnicity'] == ethnicity_group]\n",
    "                            count.loc[i,] = [len(temp4),ag,rg,sg,eg]\n",
    "                            #print(i)\n",
    "                            i = i + 1\n",
    "                            if len(temp4) > 0:\n",
    "                                if len(temp4) < 5:\n",
    "                                    # Create a list of uniformly distributed random numbers \n",
    "                                    # [0,1] the length of the number of cases in that strata\n",
    "                                    #list = np.random.rand(len(temp4),1)\n",
    "                                    list = np.around(np.random.rand(len(temp4),1), decimals = 3)\n",
    "                                    # If rand(n) <=0.2 assign test\n",
    "                                    # If rand(n) >0.2 assign train\n",
    "                                    for n in range(0,len(list)):\n",
    "                                        if list[n] > percSeq:\n",
    "                                            add1 = pd.DataFrame(temp4.loc[temp4.index[n]]).transpose()\n",
    "                                            #add1 = pd.DataFrame(temp4.loc[temp4.index[n]])\n",
    "                                            open1 = pd.concat([open1, add1])\n",
    "                                            #print('part1:' + str(open1.shape))\n",
    "                                        else:\n",
    "                                            add2 = pd.DataFrame(temp4.loc[temp4.index[n]]).transpose()\n",
    "                                            #add2 = pd.DataFrame(temp4.loc[temp4.index[n]])\n",
    "                                            seq = pd.concat([seq, add2])\n",
    "                                else:\n",
    "                                    rows = len(temp4)\n",
    "                                    # Shuffle the order of cases in this strata and than assign\n",
    "                                    # the first 80% to train and the last 20% to test\n",
    "                                    arr = np.array(range(0, rows))\n",
    "                                    idx = np.random.permutation(arr)\n",
    "                                    add1 = pd.DataFrame(temp4.loc[temp4.index[idx[range(0, round(rows*(1-percSeq)))]]])\n",
    "                                    open1 = pd.concat([open1, add1])\n",
    "                                    add2 = pd.DataFrame(temp4.loc[temp4.index[idx[range(round(rows*(1-percSeq)),len(idx))]]])\n",
    "                                    seq = pd.concat([seq, add2])\n",
    "                                    #print(open1.shape)\n",
    "                                    \n",
    "    \n",
    "    \n",
    "    # Write results in Final Table\n",
    "    for i in range(0, len(open1)):\n",
    "        idx = FinalTable.index[FinalTable['submitter_id'] == open1['submitter_id'].iloc[i]].tolist()\n",
    "        FinalTable.loc[idx, 'dataset'] = \"Open\"\n",
    "        FinalTable.loc[idx, 'batch'] = filename[len(filename)-12:len(filename)-4]\n",
    "\n",
    "    for i in range(0, len(seq)):\n",
    "        idx = FinalTable.index[FinalTable['submitter_id'] == seq['submitter_id'].iloc[i]].tolist()\n",
    "        FinalTable.loc[idx, 'dataset'] = \"Seq\"\n",
    "        FinalTable.loc[idx, 'batch'] = filename[len(filename)-12:len(filename)-4]\n",
    "\n",
    "idx = FinalTable.index[FinalTable['submitter_id'] == \"Unassigned\"].tolist()\n",
    "if len(idx) > 0:\n",
    "    print(\"Warning: \" + str(len(idx)) +\" patients did not fall in sequestration criteria \\n\")\n",
    "    print(\"Assigning to open dataset \\n\")\n",
    "    FinalTable.loc[idx, 'dataset'] = \"Open\"\n",
    "    FinalTable.loc[idx, 'batch'] = filename[len(filename)-12:len(filename)-4]\n"
   ]
  },
  {
   "cell_type": "markdown",
   "id": "507513aa",
   "metadata": {},
   "source": [
    "Check for duplicate patients"
   ]
  },
  {
   "cell_type": "code",
   "execution_count": 22,
   "id": "6f5a44ff",
   "metadata": {},
   "outputs": [],
   "source": [
    "# Check for duplicate patients\n",
    "ptcount = pd.unique(FinalTable['submitter_id'])\n",
    "if not len(ptcount) == len(FinalTable):\n",
    "    dupes = len(FinalTable) - len(ptcount)\n",
    "    print(\"WARNING: \"+str(dupes)+\" duplicate patients in batch \\n\")\n",
    "    count = pd.DataFrame(0, index=np.arange(len(FinalTable)), columns=['duped'])\n",
    "    for i in range(0, len(FinalTable)):\n",
    "        for j in range(0, len(FinalTable)):\n",
    "            if FinalTable.loc[i,'submitter_id'] == FinalTable.loc[j,'submitter_id']:\n",
    "                count.loc[i, 'duped'] = count.loc[i, 'duped'] + 1\n",
    "    dupidx = count.index[count['duped'] > 1].tolist()\n",
    "    datadup = FinalTable.loc[dupidx]\n",
    "    datadup\n"
   ]
  },
  {
   "cell_type": "markdown",
   "id": "8d38d2e0",
   "metadata": {},
   "source": [
    "Write completed file"
   ]
  },
  {
   "cell_type": "code",
   "execution_count": 23,
   "id": "78d8d2b9",
   "metadata": {},
   "outputs": [],
   "source": [
    "## Filepath to output data: \n",
    "filepath = \"./\"\n",
    "\n",
    "completefilename = filepath + \"COMPLETED_\" + filename[0:len(filename)-4] + \".csv\"\n",
    "FinalTable.to_csv(completefilename, sep='\\t', encoding='utf-8', index=False)\n"
   ]
  },
  {
   "cell_type": "markdown",
   "id": "8081c0cb",
   "metadata": {},
   "source": [
    "Writing the results to the data evaluation sheet is not yet available in Python. \n",
    "\n",
    "Please check back soon for this update!\n",
    "\n"
   ]
  },
  {
   "cell_type": "markdown",
   "id": "d016338e",
   "metadata": {},
   "source": [
    "### Sequestration process is complete!\n",
    "Thank you!"
   ]
  }
 ],
 "metadata": {
  "kernelspec": {
   "display_name": "Python 3 (ipykernel)",
   "language": "python",
   "name": "python3"
  },
  "language_info": {
   "codemirror_mode": {
    "name": "ipython",
    "version": 3
   },
   "file_extension": ".py",
   "mimetype": "text/x-python",
   "name": "python",
   "nbconvert_exporter": "python",
   "pygments_lexer": "ipython3",
   "version": "3.8.16"
  }
 },
 "nbformat": 4,
 "nbformat_minor": 5
}
